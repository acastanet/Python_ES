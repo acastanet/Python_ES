import numpy as np
import matplotlib.pyplot as plt

A = 1  # amplitude of signal
Q = 1/12  # quantization stepsize
N = 2000  # number of samples

def uniform_midtread_quantizer(x, Q):
    # limiter
    x = np.copy(x)
    idx = np.where(np.abs(x) >= A)
    x[idx] = np.sign(x[idx])
    # linear uniform quantization
    xQ = Q * np.floor(x/Q + 1/2)

    return xQ

def plot_signals(x, xQ):

    plt.figure(figsize=(16,9))

    x = (1 + x)*(3.3/2)
    xQ = (1 + xQ)*(3.3/2)

    plt.plot(x, linewidth="4", label=r'Signal récepteur')
    plt.plot(xQ, linewidth="2", color='r', label=r'Signal quantifié')

    plt.xlabel(r'Temps en ms')
    plt.legend()
    plt.grid()

# generate signal
x = A * np.sin(2*np.pi/N * np.arange(N))
# quantize signal
xQ = uniform_midtread_quantizer(x, Q)
# plot signals
plot_signals(x, xQ)

